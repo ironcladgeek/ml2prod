{
 "cells": [
  {
   "cell_type": "code",
   "execution_count": 81,
   "metadata": {},
   "outputs": [],
   "source": [
    "import numpy as np\n",
    "import pandas as pd\n",
    "from sklearn.model_selection import (\n",
    "    train_test_split,\n",
    "    RepeatedStratifiedKFold,\n",
    "    cross_val_score,\n",
    ")\n",
    "from sklearn.preprocessing import OneHotEncoder\n",
    "from sklearn.impute import SimpleImputer\n",
    "from sklearn.compose import ColumnTransformer\n",
    "from sklearn import metrics\n",
    "from sklearn.linear_model import LogisticRegression, RidgeClassifier\n",
    "from sklearn.discriminant_analysis import LinearDiscriminantAnalysis\n",
    "from sklearn.ensemble import (\n",
    "    RandomForestClassifier,\n",
    "    ExtraTreesClassifier,\n",
    "    AdaBoostClassifier,\n",
    "    GradientBoostingClassifier,\n",
    ")\n",
    "from imblearn.over_sampling import SMOTE\n",
    "from imblearn.ensemble import BalancedRandomForestClassifier, BalancedBaggingClassifier\n",
    "from imblearn.pipeline import Pipeline\n",
    "import joblib\n",
    "import warnings\n",
    "\n",
    "warnings.filterwarnings(action=\"ignore\")\n"
   ]
  },
  {
   "attachments": {},
   "cell_type": "markdown",
   "metadata": {},
   "source": [
    "## Data exploration"
   ]
  },
  {
   "cell_type": "code",
   "execution_count": 82,
   "metadata": {},
   "outputs": [
    {
     "name": "stdout",
     "output_type": "stream",
     "text": [
      "Dataset shape: (5110, 12)\n"
     ]
    }
   ],
   "source": [
    "df = pd.read_csv(\"../data/healthcare-dataset-stroke-data.csv\")\n",
    "df = df.sample(frac=1, random_state=42).reset_index(drop=True)\n",
    "print(f\"Dataset shape: {df.shape}\")"
   ]
  },
  {
   "cell_type": "code",
   "execution_count": 83,
   "metadata": {},
   "outputs": [
    {
     "data": {
      "text/html": [
       "<div>\n",
       "<style scoped>\n",
       "    .dataframe tbody tr th:only-of-type {\n",
       "        vertical-align: middle;\n",
       "    }\n",
       "\n",
       "    .dataframe tbody tr th {\n",
       "        vertical-align: top;\n",
       "    }\n",
       "\n",
       "    .dataframe thead th {\n",
       "        text-align: right;\n",
       "    }\n",
       "</style>\n",
       "<table border=\"1\" class=\"dataframe\">\n",
       "  <thead>\n",
       "    <tr style=\"text-align: right;\">\n",
       "      <th></th>\n",
       "      <th>id</th>\n",
       "      <th>gender</th>\n",
       "      <th>age</th>\n",
       "      <th>hypertension</th>\n",
       "      <th>heart_disease</th>\n",
       "      <th>ever_married</th>\n",
       "      <th>work_type</th>\n",
       "      <th>Residence_type</th>\n",
       "      <th>avg_glucose_level</th>\n",
       "      <th>bmi</th>\n",
       "      <th>smoking_status</th>\n",
       "      <th>stroke</th>\n",
       "    </tr>\n",
       "  </thead>\n",
       "  <tbody>\n",
       "    <tr>\n",
       "      <th>2985</th>\n",
       "      <td>5496</td>\n",
       "      <td>Female</td>\n",
       "      <td>45.0</td>\n",
       "      <td>0</td>\n",
       "      <td>0</td>\n",
       "      <td>Yes</td>\n",
       "      <td>Private</td>\n",
       "      <td>Urban</td>\n",
       "      <td>202.66</td>\n",
       "      <td>NaN</td>\n",
       "      <td>never smoked</td>\n",
       "      <td>0</td>\n",
       "    </tr>\n",
       "    <tr>\n",
       "      <th>2982</th>\n",
       "      <td>6372</td>\n",
       "      <td>Female</td>\n",
       "      <td>32.0</td>\n",
       "      <td>0</td>\n",
       "      <td>0</td>\n",
       "      <td>Yes</td>\n",
       "      <td>Private</td>\n",
       "      <td>Urban</td>\n",
       "      <td>97.14</td>\n",
       "      <td>55.9</td>\n",
       "      <td>never smoked</td>\n",
       "      <td>0</td>\n",
       "    </tr>\n",
       "    <tr>\n",
       "      <th>4450</th>\n",
       "      <td>40163</td>\n",
       "      <td>Female</td>\n",
       "      <td>82.0</td>\n",
       "      <td>1</td>\n",
       "      <td>0</td>\n",
       "      <td>Yes</td>\n",
       "      <td>Private</td>\n",
       "      <td>Urban</td>\n",
       "      <td>222.52</td>\n",
       "      <td>NaN</td>\n",
       "      <td>formerly smoked</td>\n",
       "      <td>0</td>\n",
       "    </tr>\n",
       "    <tr>\n",
       "      <th>533</th>\n",
       "      <td>65053</td>\n",
       "      <td>Female</td>\n",
       "      <td>34.0</td>\n",
       "      <td>0</td>\n",
       "      <td>0</td>\n",
       "      <td>Yes</td>\n",
       "      <td>Private</td>\n",
       "      <td>Urban</td>\n",
       "      <td>113.01</td>\n",
       "      <td>37.6</td>\n",
       "      <td>never smoked</td>\n",
       "      <td>0</td>\n",
       "    </tr>\n",
       "  </tbody>\n",
       "</table>\n",
       "</div>"
      ],
      "text/plain": [
       "         id  gender   age  hypertension  heart_disease ever_married work_type  \\\n",
       "2985   5496  Female  45.0             0              0          Yes   Private   \n",
       "2982   6372  Female  32.0             0              0          Yes   Private   \n",
       "4450  40163  Female  82.0             1              0          Yes   Private   \n",
       "533   65053  Female  34.0             0              0          Yes   Private   \n",
       "\n",
       "     Residence_type  avg_glucose_level   bmi   smoking_status  stroke  \n",
       "2985          Urban             202.66   NaN     never smoked       0  \n",
       "2982          Urban              97.14  55.9     never smoked       0  \n",
       "4450          Urban             222.52   NaN  formerly smoked       0  \n",
       "533           Urban             113.01  37.6     never smoked       0  "
      ]
     },
     "execution_count": 83,
     "metadata": {},
     "output_type": "execute_result"
    }
   ],
   "source": [
    "df.sample(n=4)"
   ]
  },
  {
   "cell_type": "code",
   "execution_count": 84,
   "metadata": {},
   "outputs": [
    {
     "data": {
      "text/plain": [
       "Female    2994\n",
       "Male      2115\n",
       "Other        1\n",
       "Name: gender, dtype: int64"
      ]
     },
     "execution_count": 84,
     "metadata": {},
     "output_type": "execute_result"
    }
   ],
   "source": [
    "df['gender'].value_counts()"
   ]
  },
  {
   "cell_type": "code",
   "execution_count": 85,
   "metadata": {},
   "outputs": [],
   "source": [
    "# only keep 'Male' and 'Female' samples\n",
    "df = df[df[\"gender\"] != \"Other\"].copy()"
   ]
  },
  {
   "cell_type": "code",
   "execution_count": 86,
   "metadata": {},
   "outputs": [
    {
     "data": {
      "text/plain": [
       "id                     0\n",
       "gender                 0\n",
       "age                    0\n",
       "hypertension           0\n",
       "heart_disease          0\n",
       "ever_married           0\n",
       "work_type              0\n",
       "Residence_type         0\n",
       "avg_glucose_level      0\n",
       "bmi                  201\n",
       "smoking_status         0\n",
       "stroke                 0\n",
       "dtype: int64"
      ]
     },
     "execution_count": 86,
     "metadata": {},
     "output_type": "execute_result"
    }
   ],
   "source": [
    "# number of null values\n",
    "df.isna().sum()"
   ]
  },
  {
   "cell_type": "code",
   "execution_count": 87,
   "metadata": {},
   "outputs": [
    {
     "data": {
      "text/html": [
       "<div>\n",
       "<style scoped>\n",
       "    .dataframe tbody tr th:only-of-type {\n",
       "        vertical-align: middle;\n",
       "    }\n",
       "\n",
       "    .dataframe tbody tr th {\n",
       "        vertical-align: top;\n",
       "    }\n",
       "\n",
       "    .dataframe thead th {\n",
       "        text-align: right;\n",
       "    }\n",
       "</style>\n",
       "<table border=\"1\" class=\"dataframe\">\n",
       "  <thead>\n",
       "    <tr style=\"text-align: right;\">\n",
       "      <th></th>\n",
       "      <th>id</th>\n",
       "      <th>age</th>\n",
       "      <th>hypertension</th>\n",
       "      <th>heart_disease</th>\n",
       "      <th>avg_glucose_level</th>\n",
       "      <th>bmi</th>\n",
       "      <th>stroke</th>\n",
       "    </tr>\n",
       "  </thead>\n",
       "  <tbody>\n",
       "    <tr>\n",
       "      <th>count</th>\n",
       "      <td>5109.00</td>\n",
       "      <td>5109.00</td>\n",
       "      <td>5109.0</td>\n",
       "      <td>5109.00</td>\n",
       "      <td>5109.00</td>\n",
       "      <td>4908.00</td>\n",
       "      <td>5109.00</td>\n",
       "    </tr>\n",
       "    <tr>\n",
       "      <th>mean</th>\n",
       "      <td>36513.99</td>\n",
       "      <td>43.23</td>\n",
       "      <td>0.1</td>\n",
       "      <td>0.05</td>\n",
       "      <td>106.14</td>\n",
       "      <td>28.89</td>\n",
       "      <td>0.05</td>\n",
       "    </tr>\n",
       "    <tr>\n",
       "      <th>std</th>\n",
       "      <td>21162.01</td>\n",
       "      <td>22.61</td>\n",
       "      <td>0.3</td>\n",
       "      <td>0.23</td>\n",
       "      <td>45.29</td>\n",
       "      <td>7.85</td>\n",
       "      <td>0.22</td>\n",
       "    </tr>\n",
       "    <tr>\n",
       "      <th>min</th>\n",
       "      <td>67.00</td>\n",
       "      <td>0.08</td>\n",
       "      <td>0.0</td>\n",
       "      <td>0.00</td>\n",
       "      <td>55.12</td>\n",
       "      <td>10.30</td>\n",
       "      <td>0.00</td>\n",
       "    </tr>\n",
       "    <tr>\n",
       "      <th>25%</th>\n",
       "      <td>17740.00</td>\n",
       "      <td>25.00</td>\n",
       "      <td>0.0</td>\n",
       "      <td>0.00</td>\n",
       "      <td>77.24</td>\n",
       "      <td>23.50</td>\n",
       "      <td>0.00</td>\n",
       "    </tr>\n",
       "    <tr>\n",
       "      <th>50%</th>\n",
       "      <td>36922.00</td>\n",
       "      <td>45.00</td>\n",
       "      <td>0.0</td>\n",
       "      <td>0.00</td>\n",
       "      <td>91.88</td>\n",
       "      <td>28.10</td>\n",
       "      <td>0.00</td>\n",
       "    </tr>\n",
       "    <tr>\n",
       "      <th>75%</th>\n",
       "      <td>54643.00</td>\n",
       "      <td>61.00</td>\n",
       "      <td>0.0</td>\n",
       "      <td>0.00</td>\n",
       "      <td>114.09</td>\n",
       "      <td>33.10</td>\n",
       "      <td>0.00</td>\n",
       "    </tr>\n",
       "    <tr>\n",
       "      <th>max</th>\n",
       "      <td>72940.00</td>\n",
       "      <td>82.00</td>\n",
       "      <td>1.0</td>\n",
       "      <td>1.00</td>\n",
       "      <td>271.74</td>\n",
       "      <td>97.60</td>\n",
       "      <td>1.00</td>\n",
       "    </tr>\n",
       "  </tbody>\n",
       "</table>\n",
       "</div>"
      ],
      "text/plain": [
       "             id      age  hypertension  heart_disease  avg_glucose_level  \\\n",
       "count   5109.00  5109.00        5109.0        5109.00            5109.00   \n",
       "mean   36513.99    43.23           0.1           0.05             106.14   \n",
       "std    21162.01    22.61           0.3           0.23              45.29   \n",
       "min       67.00     0.08           0.0           0.00              55.12   \n",
       "25%    17740.00    25.00           0.0           0.00              77.24   \n",
       "50%    36922.00    45.00           0.0           0.00              91.88   \n",
       "75%    54643.00    61.00           0.0           0.00             114.09   \n",
       "max    72940.00    82.00           1.0           1.00             271.74   \n",
       "\n",
       "           bmi   stroke  \n",
       "count  4908.00  5109.00  \n",
       "mean     28.89     0.05  \n",
       "std       7.85     0.22  \n",
       "min      10.30     0.00  \n",
       "25%      23.50     0.00  \n",
       "50%      28.10     0.00  \n",
       "75%      33.10     0.00  \n",
       "max      97.60     1.00  "
      ]
     },
     "execution_count": 87,
     "metadata": {},
     "output_type": "execute_result"
    }
   ],
   "source": [
    "# numerical data stats\n",
    "round(df.describe(exclude=[\"object\"]), 2)"
   ]
  },
  {
   "cell_type": "code",
   "execution_count": 88,
   "metadata": {},
   "outputs": [
    {
     "data": {
      "text/html": [
       "<div>\n",
       "<style scoped>\n",
       "    .dataframe tbody tr th:only-of-type {\n",
       "        vertical-align: middle;\n",
       "    }\n",
       "\n",
       "    .dataframe tbody tr th {\n",
       "        vertical-align: top;\n",
       "    }\n",
       "\n",
       "    .dataframe thead th {\n",
       "        text-align: right;\n",
       "    }\n",
       "</style>\n",
       "<table border=\"1\" class=\"dataframe\">\n",
       "  <thead>\n",
       "    <tr style=\"text-align: right;\">\n",
       "      <th></th>\n",
       "      <th>gender</th>\n",
       "      <th>ever_married</th>\n",
       "      <th>work_type</th>\n",
       "      <th>Residence_type</th>\n",
       "      <th>smoking_status</th>\n",
       "    </tr>\n",
       "  </thead>\n",
       "  <tbody>\n",
       "    <tr>\n",
       "      <th>count</th>\n",
       "      <td>5109</td>\n",
       "      <td>5109</td>\n",
       "      <td>5109</td>\n",
       "      <td>5109</td>\n",
       "      <td>5109</td>\n",
       "    </tr>\n",
       "    <tr>\n",
       "      <th>unique</th>\n",
       "      <td>2</td>\n",
       "      <td>2</td>\n",
       "      <td>5</td>\n",
       "      <td>2</td>\n",
       "      <td>4</td>\n",
       "    </tr>\n",
       "    <tr>\n",
       "      <th>top</th>\n",
       "      <td>Female</td>\n",
       "      <td>Yes</td>\n",
       "      <td>Private</td>\n",
       "      <td>Urban</td>\n",
       "      <td>never smoked</td>\n",
       "    </tr>\n",
       "    <tr>\n",
       "      <th>freq</th>\n",
       "      <td>2994</td>\n",
       "      <td>3353</td>\n",
       "      <td>2924</td>\n",
       "      <td>2596</td>\n",
       "      <td>1892</td>\n",
       "    </tr>\n",
       "  </tbody>\n",
       "</table>\n",
       "</div>"
      ],
      "text/plain": [
       "        gender ever_married work_type Residence_type smoking_status\n",
       "count     5109         5109      5109           5109           5109\n",
       "unique       2            2         5              2              4\n",
       "top     Female          Yes   Private          Urban   never smoked\n",
       "freq      2994         3353      2924           2596           1892"
      ]
     },
     "execution_count": 88,
     "metadata": {},
     "output_type": "execute_result"
    }
   ],
   "source": [
    "# categorical data stats\n",
    "round(df.describe(exclude = ['float', 'int64']), 2)"
   ]
  },
  {
   "cell_type": "code",
   "execution_count": 89,
   "metadata": {},
   "outputs": [
    {
     "data": {
      "text/plain": [
       "0    0.9513\n",
       "1    0.0487\n",
       "Name: stroke, dtype: float64"
      ]
     },
     "execution_count": 89,
     "metadata": {},
     "output_type": "execute_result"
    }
   ],
   "source": [
    "# distribution of targets\n",
    "round(df[\"stroke\"].value_counts(normalize=True), 4)"
   ]
  },
  {
   "attachments": {},
   "cell_type": "markdown",
   "metadata": {},
   "source": [
    "## Compare models"
   ]
  },
  {
   "cell_type": "code",
   "execution_count": 90,
   "metadata": {},
   "outputs": [],
   "source": [
    "def evaluate_model(X, y, model, n_splits=5, n_repeats=3, scoring_metric=\"f1\"):\n",
    "    cv = RepeatedStratifiedKFold(\n",
    "        n_splits=n_splits, n_repeats=n_repeats, random_state=42\n",
    "    )\n",
    "    scores = cross_val_score(model, X, y, scoring=scoring_metric, cv=cv, n_jobs=-1)\n",
    "    return scores\n"
   ]
  },
  {
   "cell_type": "code",
   "execution_count": 91,
   "metadata": {},
   "outputs": [],
   "source": [
    "X = df.drop(columns=[\"id\", \"stroke\"])\n",
    "y = df[\"stroke\"].copy()\n",
    "categorical = X.select_dtypes(include=\"object\").columns.to_list()\n",
    "numerical = X.select_dtypes(include=\"number\").columns.to_list()"
   ]
  },
  {
   "cell_type": "code",
   "execution_count": 92,
   "metadata": {},
   "outputs": [],
   "source": [
    "models = [\n",
    "    (\"LogisticRegression\", LogisticRegression(max_iter=5000, random_state=42)),\n",
    "    (\"LDA\", LinearDiscriminantAnalysis()),\n",
    "    (\"RidgeClassifier\", RidgeClassifier()),\n",
    "    (\"RandomForest\", RandomForestClassifier(random_state=42)),\n",
    "    (\"BalancedRandomForestClassifier\", BalancedRandomForestClassifier(random_state=42)),\n",
    "    (\"ExtraTrees\", ExtraTreesClassifier(random_state=42)),\n",
    "    (\"AdaBoost\", AdaBoostClassifier(random_state=42)),\n",
    "    (\"GradientBoosting\", GradientBoostingClassifier(random_state=42)),\n",
    "    (\"BalancedBaggingClassifier\", BalancedBaggingClassifier(random_state=42)),\n",
    "]"
   ]
  },
  {
   "cell_type": "code",
   "execution_count": 93,
   "metadata": {},
   "outputs": [
    {
     "name": "stdout",
     "output_type": "stream",
     "text": [
      "Model: LogisticRegression\n",
      "recall: 0.004\n",
      "std: 0.008\n",
      "==================================================\n",
      "Model: LDA\n",
      "recall: 0.063\n",
      "std: 0.0273\n",
      "==================================================\n",
      "Model: RidgeClassifier\n",
      "recall: 0.0\n",
      "std: 0.0\n",
      "==================================================\n",
      "Model: RandomForest\n",
      "recall: 0.0094\n",
      "std: 0.0101\n",
      "==================================================\n",
      "Model: BalancedRandomForestClassifier\n",
      "recall: 0.8394\n",
      "std: 0.0556\n",
      "==================================================\n",
      "Model: ExtraTrees\n",
      "recall: 0.0349\n",
      "std: 0.0214\n",
      "==================================================\n",
      "Model: AdaBoost\n",
      "recall: 0.0094\n",
      "std: 0.0124\n",
      "==================================================\n",
      "Model: GradientBoosting\n",
      "recall: 0.0134\n",
      "std: 0.0141\n",
      "==================================================\n",
      "Model: BalancedBaggingClassifier\n",
      "recall: 0.6278\n",
      "std: 0.0652\n",
      "==================================================\n"
     ]
    }
   ],
   "source": [
    "# compare models with imbalanced data\n",
    "for name, model in models:\n",
    "    transformer = ColumnTransformer(\n",
    "        transformers=[\n",
    "            (\"imp\", SimpleImputer(strategy=\"median\"), numerical),\n",
    "            (\"o\", OneHotEncoder(), categorical),\n",
    "        ]\n",
    "    )\n",
    "    pipeline = Pipeline(steps=[(\"t\", transformer), (\"m\", model)])\n",
    "    scores = evaluate_model(X, y, model=pipeline, scoring_metric=\"recall\")\n",
    "    print(f\"Model: {name}\")\n",
    "    print(f\"recall: {round(np.mean(scores), 4)}\")\n",
    "    print(f\"std: {round(np.std(scores), 4)}\")\n",
    "    print(\"=\"*50)\n"
   ]
  },
  {
   "cell_type": "code",
   "execution_count": 94,
   "metadata": {},
   "outputs": [
    {
     "name": "stdout",
     "output_type": "stream",
     "text": [
      "Model: LogisticRegression\n",
      "recall: 0.7829\n",
      "std: 0.0677\n",
      "\n",
      "\n",
      "Model: LDA\n",
      "recall: 0.7923\n",
      "std: 0.0638\n",
      "\n",
      "\n",
      "Model: RidgeClassifier\n",
      "recall: 0.799\n",
      "std: 0.0655\n",
      "\n",
      "\n",
      "Model: RandomForest\n",
      "recall: 0.0255\n",
      "std: 0.0172\n",
      "\n",
      "\n",
      "Model: BalancedRandomForestClassifier\n",
      "recall: 0.0268\n",
      "std: 0.0189\n",
      "\n",
      "\n",
      "Model: ExtraTrees\n",
      "recall: 0.0523\n",
      "std: 0.0243\n",
      "\n",
      "\n",
      "Model: AdaBoost\n",
      "recall: 0.0616\n",
      "std: 0.0289\n",
      "\n",
      "\n",
      "Model: GradientBoosting\n",
      "recall: 0.0348\n",
      "std: 0.02\n",
      "\n",
      "\n",
      "Model: BalancedBaggingClassifier\n",
      "recall: 0.0508\n",
      "std: 0.0251\n",
      "\n",
      "\n"
     ]
    }
   ],
   "source": [
    "# compare models with resampled data (SMOTE oversampling) \n",
    "for name, model in models:\n",
    "    transformer = ColumnTransformer(\n",
    "        transformers=[\n",
    "            (\"imp\", SimpleImputer(strategy=\"median\"), numerical),\n",
    "            (\"o\", OneHotEncoder(), categorical),\n",
    "        ]\n",
    "    )\n",
    "    pipeline = Pipeline(steps=[(\"t\", transformer), (\"over\", SMOTE()), (\"m\", model)])\n",
    "    scores = evaluate_model(X, y, model=pipeline, scoring_metric=\"recall\")\n",
    "    print(f\"Model: {name}\")\n",
    "    print(f\"recall: {round(np.mean(scores), 4)}\")\n",
    "    print(f\"std: {round(np.std(scores), 4)}\")\n",
    "    print(\"\\n\")"
   ]
  },
  {
   "attachments": {},
   "cell_type": "markdown",
   "metadata": {},
   "source": [
    "## Final model"
   ]
  },
  {
   "cell_type": "code",
   "execution_count": 95,
   "metadata": {},
   "outputs": [
    {
     "data": {
      "text/plain": [
       "((4342, 10), (767, 10))"
      ]
     },
     "execution_count": 95,
     "metadata": {},
     "output_type": "execute_result"
    }
   ],
   "source": [
    "X_train, X_test, y_train, y_test = train_test_split(X, y, test_size=0.15, random_state=13)\n",
    "X_train.shape, X_test.shape"
   ]
  },
  {
   "cell_type": "code",
   "execution_count": 96,
   "metadata": {},
   "outputs": [
    {
     "name": "stdout",
     "output_type": "stream",
     "text": [
      "              precision    recall  f1-score   support\n",
      "\n",
      "           0     0.9883    0.8090    0.8897       733\n",
      "           1     0.1617    0.7941    0.2687        34\n",
      "\n",
      "    accuracy                         0.8083       767\n",
      "   macro avg     0.5750    0.8016    0.5792       767\n",
      "weighted avg     0.9517    0.8083    0.8622       767\n",
      "\n",
      "[[593 140]\n",
      " [  7  27]]\n"
     ]
    }
   ],
   "source": [
    "clf = LogisticRegression(C=1.9, class_weight={0: 1.3, 1: 1.0})\n",
    "transformer = ColumnTransformer(\n",
    "        transformers=[\n",
    "            (\"imp\", SimpleImputer(strategy=\"median\"), numerical),\n",
    "            (\"o\", OneHotEncoder(), categorical),\n",
    "        ]\n",
    "    )\n",
    "pipeline = Pipeline(steps=[(\"t\", transformer), (\"over\", SMOTE(random_state=0)), (\"m\", clf)])\n",
    "\n",
    "pipeline.fit(X_train, y_train)\n",
    "y_preds = pipeline.predict(X_test)\n",
    "\n",
    "print(metrics.classification_report(y_test, y_preds, digits=4))\n",
    "print(metrics.confusion_matrix(y_test, y_preds))"
   ]
  },
  {
   "cell_type": "code",
   "execution_count": 100,
   "metadata": {},
   "outputs": [
    {
     "data": {
      "text/plain": [
       "['../models/lr_stroke_prediction_v1.pkl']"
      ]
     },
     "execution_count": 100,
     "metadata": {},
     "output_type": "execute_result"
    }
   ],
   "source": [
    "# export the pipeline\n",
    "joblib.dump(pipeline, \"../models/lr_stroke_prediction_v1.pkl\")"
   ]
  },
  {
   "cell_type": "code",
   "execution_count": null,
   "metadata": {},
   "outputs": [],
   "source": []
  }
 ],
 "metadata": {
  "kernelspec": {
   "display_name": "ml2prod",
   "language": "python",
   "name": "python3"
  },
  "language_info": {
   "codemirror_mode": {
    "name": "ipython",
    "version": 3
   },
   "file_extension": ".py",
   "mimetype": "text/x-python",
   "name": "python",
   "nbconvert_exporter": "python",
   "pygments_lexer": "ipython3",
   "version": "3.9.15"
  },
  "orig_nbformat": 4,
  "vscode": {
   "interpreter": {
    "hash": "9c4340d245cb411eab2e7394ee231f523c88057bf1ed5e79641ba5807c9980f0"
   }
  }
 },
 "nbformat": 4,
 "nbformat_minor": 2
}
